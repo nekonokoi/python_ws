{
 "cells": [
  {
   "cell_type": "markdown",
   "metadata": {},
   "source": [
    "# プログラミングの種類(使い方的な分類)\n",
    "- OS上で作業を処理する(スクリプト言語)\n",
    "- アプリケーションなどになる(RoR,Javaなど)\n",
    "- アプリケーションを操作する(例:MS Officeに対するVBA)"
   ]
  },
  {
   "cell_type": "markdown",
   "metadata": {},
   "source": [
    "# Pythonの位置づけ\n",
    "- スクリプトを作って動かせる(基本,データ操作)\n",
    "- アプリケーションを構築できる(Django,kivy,tkinter,tornado)\n",
    "- アプリケーションを操作できる(MayaPython,xlxswriter)"
   ]
  },
  {
   "cell_type": "markdown",
   "metadata": {},
   "source": [
    "# Pythonはどこにあるか\n",
    "- OSに初めから入っているもの(OSX,Linux系)\n",
    "- 自分で入れるもの(Python2.X,Python3.X,Anaconda,Miniconda)"
   ]
  },
  {
   "cell_type": "markdown",
   "metadata": {},
   "source": [
    "# Pythonをどのように実行するか\n",
    "- 対話モード\n",
    "- スクリプト\n",
    "- アプリケーション\n",
    "- IPython Notebook"
   ]
  },
  {
   "cell_type": "markdown",
   "metadata": {},
   "source": [
    "# プログラミングの基本\n",
    "- 変数格納\n",
    "- ループ\n",
    "- 分岐\n",
    "- 関数\n",
    "- クラス"
   ]
  },
  {
   "cell_type": "markdown",
   "metadata": {},
   "source": [
    "## 変数格納\n",
    "- 一時的な入れ物にデータを入れておく\n",
    "- それらのデータを操作していく=>処理\n",
    "\n",
    "### 覚えるべきこと\n",
    "- データの入れ物\n",
    "- データの種類"
   ]
  },
  {
   "cell_type": "markdown",
   "metadata": {},
   "source": [
    "## 数値"
   ]
  },
  {
   "cell_type": "code",
   "execution_count": 1,
   "metadata": {
    "collapsed": false
   },
   "outputs": [
    {
     "ename": "SyntaxError",
     "evalue": "invalid syntax (<ipython-input-1-3480b8ce6c0b>, line 16)",
     "output_type": "error",
     "traceback": [
      "\u001b[1;36m  File \u001b[1;32m\"<ipython-input-1-3480b8ce6c0b>\"\u001b[1;36m, line \u001b[1;32m16\u001b[0m\n\u001b[1;33m    data3 = 3i\u001b[0m\n\u001b[1;37m             ^\u001b[0m\n\u001b[1;31mSyntaxError\u001b[0m\u001b[1;31m:\u001b[0m invalid syntax\n"
     ]
    }
   ],
   "source": [
    "# numeric\n",
    "\n",
    "# Integer\n",
    "data1 = 100\n",
    "\n",
    "print data1\n",
    "\n",
    "# update\n",
    "data1 = 200\n",
    "print data1\n",
    "\n",
    "# Float,Double\n",
    "data2 = 1.0\n",
    "\n",
    "print data2\n",
    "\n",
    "# complex\n"
   ]
  },
  {
   "cell_type": "markdown",
   "metadata": {},
   "source": [
    "## 文字"
   ]
  },
  {
   "cell_type": "code",
   "execution_count": 3,
   "metadata": {
    "collapsed": false
   },
   "outputs": [
    {
     "name": "stdout",
     "output_type": "stream",
     "text": [
      "this is string\n",
      "\n",
      "this\n",
      "is\n",
      "string\n",
      "\n"
     ]
    }
   ],
   "source": [
    "# String\n",
    "\n",
    "data1 = \"this is string\"\n",
    "# data1 = 'this is string too'\n",
    "\n",
    "print data1\n",
    "\n",
    "data2 = \"\"\"\n",
    "this\n",
    "is\n",
    "string\n",
    "\"\"\"\n",
    "\n",
    "print data2"
   ]
  },
  {
   "cell_type": "markdown",
   "metadata": {},
   "source": [
    "## 真偽値\n"
   ]
  },
  {
   "cell_type": "code",
   "execution_count": 5,
   "metadata": {
    "collapsed": false
   },
   "outputs": [
    {
     "name": "stdout",
     "output_type": "stream",
     "text": [
      "True\n",
      "False\n"
     ]
    }
   ],
   "source": [
    "# boolean\n",
    "\n",
    "data1 = True\n",
    "data2 = False\n",
    "\n",
    "print data1\n",
    "print data2"
   ]
  },
  {
   "cell_type": "markdown",
   "metadata": {},
   "source": [
    "## その他\n",
    "- 日付、時間\n",
    "などなど"
   ]
  },
  {
   "cell_type": "markdown",
   "metadata": {},
   "source": [
    "## 処理"
   ]
  },
  {
   "cell_type": "code",
   "execution_count": 7,
   "metadata": {
    "collapsed": false
   },
   "outputs": [
    {
     "name": "stdout",
     "output_type": "stream",
     "text": [
      "2\n",
      "300\n",
      "200\n",
      "10000\n",
      "2\n",
      "100\n"
     ]
    }
   ],
   "source": [
    "# numeric\n",
    "\n",
    "print 1 + 1\n",
    "\n",
    "data1 = 100\n",
    "data2 = 200\n",
    "\n",
    "print data1 + data2\n",
    "\n",
    "print data1 * 2\n",
    "\n",
    "print data1 ** 2\n",
    "\n",
    "print data2 / data1\n",
    "\n",
    "print data2 - data1"
   ]
  },
  {
   "cell_type": "code",
   "execution_count": 10,
   "metadata": {
    "collapsed": false
   },
   "outputs": [
    {
     "name": "stdout",
     "output_type": "stream",
     "text": [
      "testtest2\n",
      "testtesttest\n"
     ]
    }
   ],
   "source": [
    "# String\n",
    "\n",
    "data1 = \"test\"\n",
    "\n",
    "data2 = \"test2\"\n",
    "\n",
    "print data1 + data2\n",
    "print data1 * 3"
   ]
  },
  {
   "cell_type": "code",
   "execution_count": 11,
   "metadata": {
    "collapsed": false
   },
   "outputs": [
    {
     "ename": "TypeError",
     "evalue": "cannot concatenate 'str' and 'int' objects",
     "output_type": "error",
     "traceback": [
      "\u001b[1;31m---------------------------------------------------------------------------\u001b[0m",
      "\u001b[1;31mTypeError\u001b[0m                                 Traceback (most recent call last)",
      "\u001b[1;32m<ipython-input-11-4e98628edc7b>\u001b[0m in \u001b[0;36m<module>\u001b[1;34m()\u001b[0m\n\u001b[0;32m      1\u001b[0m \u001b[1;31m# this is type error\u001b[0m\u001b[1;33m\u001b[0m\u001b[1;33m\u001b[0m\u001b[0m\n\u001b[1;32m----> 2\u001b[1;33m \u001b[0mdata1\u001b[0m \u001b[1;33m+\u001b[0m \u001b[1;36m10\u001b[0m\u001b[1;33m\u001b[0m\u001b[0m\n\u001b[0m",
      "\u001b[1;31mTypeError\u001b[0m: cannot concatenate 'str' and 'int' objects"
     ]
    }
   ],
   "source": [
    "# this is type error\n",
    "data1 + 10"
   ]
  },
  {
   "cell_type": "code",
   "execution_count": 17,
   "metadata": {
    "collapsed": false
   },
   "outputs": [
    {
     "name": "stdout",
     "output_type": "stream",
     "text": [
      "test\n",
      "t\n",
      "es\n",
      "ts\n",
      "tes\n"
     ]
    }
   ],
   "source": [
    "# slice\n",
    "print data1[:]\n",
    "print data1[0]\n",
    "print data1[1:3]\n",
    "print data1[::2]\n",
    "print data1[:-1]"
   ]
  },
  {
   "cell_type": "markdown",
   "metadata": {},
   "source": [
    "## データをまとめる"
   ]
  },
  {
   "cell_type": "code",
   "execution_count": 18,
   "metadata": {
    "collapsed": false
   },
   "outputs": [
    {
     "name": "stdout",
     "output_type": "stream",
     "text": [
      "[1, 2, 3, 4, 5]\n",
      "['test', 'test', 'test']\n",
      "['string content', [1, 2, 3, 4, 5], ['test', 'test', 'test']]\n"
     ]
    }
   ],
   "source": [
    "# list\n",
    "\n",
    "data1 = [1,2,3,4,5]\n",
    "print data1\n",
    "\n",
    "data2 = [\"test\",\"test\",\"test\"]\n",
    "print data2\n",
    "\n",
    "content = \"string content\"\n",
    "data3 = [content,data1,data2]\n",
    "print data3"
   ]
  },
  {
   "cell_type": "code",
   "execution_count": 22,
   "metadata": {
    "collapsed": false
   },
   "outputs": [
    {
     "name": "stdout",
     "output_type": "stream",
     "text": [
      "3\n",
      "[2, 3]\n",
      "3\n",
      "5\n"
     ]
    }
   ],
   "source": [
    "print data1[2]\n",
    "print data1[1:3]\n",
    "\n",
    "print data3[1][2]\n",
    "print data1[1] + data1[2]"
   ]
  },
  {
   "cell_type": "code",
   "execution_count": 24,
   "metadata": {
    "collapsed": false
   },
   "outputs": [
    {
     "name": "stdout",
     "output_type": "stream",
     "text": [
      "{'key2': 'value2', 'key1': 'value1'}\n",
      "value1\n"
     ]
    }
   ],
   "source": [
    "# dict\n",
    "\n",
    "dict1 = {\"key1\":\"value1\",\"key2\":\"value2\"}\n",
    "print dict1\n",
    "\n",
    "print dict1[\"key1\"]"
   ]
  },
  {
   "cell_type": "markdown",
   "metadata": {},
   "source": [
    "## 関数\n",
    "- 関数名\n",
    "- 引数\n",
    "- 返り値"
   ]
  },
  {
   "cell_type": "code",
   "execution_count": 26,
   "metadata": {
    "collapsed": false
   },
   "outputs": [
    {
     "name": "stdout",
     "output_type": "stream",
     "text": [
      "[1, 2, 3, 4, 5]\n",
      "5\n"
     ]
    }
   ],
   "source": [
    "print data1\n",
    "print len(data1)"
   ]
  },
  {
   "cell_type": "code",
   "execution_count": 28,
   "metadata": {
    "collapsed": false
   },
   "outputs": [
    {
     "name": "stdout",
     "output_type": "stream",
     "text": [
      "5\n",
      "12\n",
      "12\n",
      "10\n"
     ]
    }
   ],
   "source": [
    "# def\n",
    "\n",
    "def func(x,y):\n",
    "    print x + y\n",
    "    return x\n",
    "\n",
    "func(2,3)\n",
    "func(10,2)\n",
    "\n",
    "rtn = func(10,2)\n",
    "print rtn"
   ]
  },
  {
   "cell_type": "markdown",
   "metadata": {},
   "source": [
    "## オブジェクトとクラス\n",
    "### オブジェクト\n",
    "- 振る舞いと属性を持つモデル\n",
    "\n",
    "### クラス\n",
    "- 自分でオブジェクトを設計する\n",
    "- そこから作られるのがインスタンス"
   ]
  },
  {
   "cell_type": "code",
   "execution_count": 29,
   "metadata": {
    "collapsed": false
   },
   "outputs": [
    {
     "name": "stdout",
     "output_type": "stream",
     "text": [
      "close\n",
      "close\n",
      "open\n"
     ]
    }
   ],
   "source": [
    "\"\"\"\n",
    "複数個のドアを監視するシステムをつくりたい\n",
    "=>ドアというものをオブジェクトにして管理する\n",
    "ドアの状態:開/閉\n",
    "持たせたい機能:ドアの開閉と、今の状態がなんなのか\n",
    "\"\"\"\n",
    "\n",
    "class door:\n",
    "    def __init__(self):\n",
    "        self.state = \"close\"\n",
    "        \n",
    "    def do_open(self):\n",
    "        self.state = \"open\"\n",
    "        print self.state\n",
    "        \n",
    "    def do_close(self):\n",
    "        self_state = \"close\"\n",
    "        print self.state\n",
    "        \n",
    "    def check_state(self):\n",
    "        print self.state\n",
    "        return self.state\n",
    "    \n",
    "\n",
    "door1 = door()\n",
    "door2 = door()\n",
    "\n",
    "door1.check_state()\n",
    "door2.check_state()\n",
    "\n",
    "door1.do_open()"
   ]
  },
  {
   "cell_type": "markdown",
   "metadata": {
    "collapsed": true
   },
   "source": [
    "## Pythonではすべてオブジェクト\n",
    "- 今まではなしたデータもすべてオブジェクト\n",
    "- メソッドやアトリビュートを持っている"
   ]
  },
  {
   "cell_type": "code",
   "execution_count": 31,
   "metadata": {
    "collapsed": false
   },
   "outputs": [
    {
     "name": "stdout",
     "output_type": "stream",
     "text": [
      "[1, 2, 3, 4, 5]\n",
      "[1, 2, 3, 4, 5, 6]\n"
     ]
    }
   ],
   "source": [
    "list_data = [1,2,3,4,5]\n",
    "print list_data\n",
    "\n",
    "list_data.append(6)\n",
    "print list_data"
   ]
  },
  {
   "cell_type": "markdown",
   "metadata": {
    "collapsed": true
   },
   "source": [
    "# ループ\n",
    "- 繰り返しの処理を行う"
   ]
  },
  {
   "cell_type": "code",
   "execution_count": 34,
   "metadata": {
    "collapsed": false
   },
   "outputs": [
    {
     "name": "stdout",
     "output_type": "stream",
     "text": [
      "10\n",
      "20\n",
      "30\n",
      "40\n",
      "50\n",
      "--while--\n",
      "0\n",
      "1\n",
      "2\n",
      "3\n",
      "4\n",
      "5\n",
      "6\n",
      "7\n",
      "8\n",
      "9\n"
     ]
    }
   ],
   "source": [
    "# iteration\n",
    "\n",
    "list_data = [1,2,3,4,5]\n",
    "\n",
    "for i in list_data:\n",
    "    print i * 10\n",
    "    \n",
    "# loop\n",
    "\n",
    "print \"--while--\"\n",
    "cnt = 0\n",
    "end = 10\n",
    "while cnt<end:\n",
    "    print cnt\n",
    "    cnt += 1\n",
    "    "
   ]
  },
  {
   "cell_type": "markdown",
   "metadata": {},
   "source": [
    "# 分岐\n",
    "- 比較演算子や真偽値を渡して分岐する\n"
   ]
  },
  {
   "cell_type": "code",
   "execution_count": 37,
   "metadata": {
    "collapsed": false
   },
   "outputs": [
    {
     "name": "stdout",
     "output_type": "stream",
     "text": [
      "zero\n",
      "odd\n",
      "even\n",
      "odd\n",
      "even\n",
      "odd\n"
     ]
    }
   ],
   "source": [
    "data = [0,1,2,3,4,5]\n",
    "\n",
    "for i in data:\n",
    "    if i == 0:\n",
    "        print \"zero\"\n",
    "    elif i % 2 == 0:\n",
    "        print \"even\"\n",
    "    else:\n",
    "        print \"odd\"\n",
    "        \n"
   ]
  },
  {
   "cell_type": "markdown",
   "metadata": {},
   "source": [
    "# クイズ\n",
    "\n",
    "## 1.以下の図形を出力\n",
    "```\n",
    "#\n",
    "##\n",
    "###\n",
    "####\n",
    "```\n",
    "\n",
    "## 2.以下の関数を作成\n",
    "- 15の倍数を与えるとFizzBuzzと出力\n",
    "- 5の倍数を与えるとBuzzと出力\n",
    "- 3の倍数を与えるとFizzと出力\n",
    "- 15の倍数の場合はFizzBuzz,5のみの倍数ならBuzz,3のみの倍数ならFizzと出力\n",
    "\n",
    "## 3.マウスを表現するクラスを作成\n"
   ]
  },
  {
   "cell_type": "markdown",
   "metadata": {},
   "source": [
    "# 今後の展開\n",
    "- Pythonの環境構築\n",
    "- Pythonそのものについて学ぶ\n",
    "- アプリケーション開発\n",
    "- データ分析、スクレイピングなどなど"
   ]
  }
 ],
 "metadata": {
  "kernelspec": {
   "display_name": "Python 2",
   "language": "python",
   "name": "python2"
  },
  "language_info": {
   "codemirror_mode": {
    "name": "ipython",
    "version": 2
   },
   "file_extension": ".py",
   "mimetype": "text/x-python",
   "name": "python",
   "nbconvert_exporter": "python",
   "pygments_lexer": "ipython2",
   "version": "2.7.11"
  }
 },
 "nbformat": 4,
 "nbformat_minor": 0
}
